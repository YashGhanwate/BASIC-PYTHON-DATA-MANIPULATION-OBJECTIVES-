{
 "cells": [
  {
   "cell_type": "markdown",
   "id": "3a6295d6",
   "metadata": {},
   "source": [
    "#          BASIC PYTHON DATA MANIPULATION OBJECTIVES:"
   ]
  },
  {
   "cell_type": "markdown",
   "id": "918a2d24",
   "metadata": {},
   "source": [
    "."
   ]
  },
  {
   "cell_type": "markdown",
   "id": "6b5dc0a3",
   "metadata": {},
   "source": [
    "# String Indexing:"
   ]
  },
  {
   "cell_type": "markdown",
   "id": "4cbbf1c6",
   "metadata": {},
   "source": [
    "---Sting indexing, also known as \"sting,\" is a technique used in information retrieval systems to\n",
    "   efficiently locate and retrieve relevant data from large volumes of text or documents.\n",
    "---It involves three main steps: sifting, thresholding, and indexing.\n",
    "---First, irrelevant data is filtered out through sifting, then remaining terms are scored based on relevance in thresholding,\n",
    "   and finally, indexed for efficient retrieval.\n",
    "---This method balances precision and recall, improving the speed and accuracy of information retrieval systems."
   ]
  },
  {
   "cell_type": "markdown",
   "id": "3c1d956b",
   "metadata": {},
   "source": [
    "1)  How can you access the first character of a string using indexing?"
   ]
  },
  {
   "cell_type": "code",
   "execution_count": 7,
   "id": "3818aecd",
   "metadata": {},
   "outputs": [
    {
     "name": "stdout",
     "output_type": "stream",
     "text": [
      "The first character of the string is: h\n"
     ]
    }
   ],
   "source": [
    "my_string = \"hello\"\n",
    "first_character = my_string[0]\n",
    "print(\"The first character of the string is:\", first_character)\n"
   ]
  },
  {
   "cell_type": "markdown",
   "id": "94207043",
   "metadata": {},
   "source": [
    "."
   ]
  },
  {
   "cell_type": "markdown",
   "id": "af10540a",
   "metadata": {},
   "source": [
    "2. Can you retrieve the last character of a string using negative indexing?"
   ]
  },
  {
   "cell_type": "code",
   "execution_count": 8,
   "id": "fbe220a4",
   "metadata": {},
   "outputs": [
    {
     "name": "stdout",
     "output_type": "stream",
     "text": [
      "The last character of the string is: d\n"
     ]
    }
   ],
   "source": [
    "my_string = \"world\"\n",
    "last_character = my_string[-1]\n",
    "print(\"The last character of the string is:\", last_character)\n"
   ]
  },
  {
   "cell_type": "markdown",
   "id": "0b6ffd96",
   "metadata": {},
   "source": [
    "."
   ]
  },
  {
   "cell_type": "markdown",
   "id": "2ad147b3",
   "metadata": {},
   "source": [
    "3.How would you extract a substring from a string using slicing?"
   ]
  },
  {
   "cell_type": "code",
   "execution_count": 60,
   "id": "0bf6b361",
   "metadata": {},
   "outputs": [
    {
     "name": "stdout",
     "output_type": "stream",
     "text": [
      "The substring is: tho\n"
     ]
    }
   ],
   "source": [
    "my_string = \"python\"\n",
    "substring = my_string[2:5]                                                        # Extracts characters from index 2 to index 4\n",
    "print(\"The substring is:\", substring)\n"
   ]
  },
  {
   "cell_type": "markdown",
   "id": "3568e2c3",
   "metadata": {},
   "source": [
    "."
   ]
  },
  {
   "cell_type": "markdown",
   "id": "98cb8459",
   "metadata": {},
   "source": [
    "4.Write a Python function middle_three_chars that takes a string as input and returns the middle three characters of the string. If the length of the string is less than three, return the original string. \n",
    "  If the length is even, return the middle two characters."
   ]
  },
  {
   "cell_type": "code",
   "execution_count": 61,
   "id": "60994c3a",
   "metadata": {},
   "outputs": [
    {
     "name": "stdout",
     "output_type": "stream",
     "text": [
      "cd\n",
      "bcd\n",
      "abc\n",
      "ab\n",
      "a\n"
     ]
    }
   ],
   "source": [
    "def middle_three_chars(s):\n",
    "    length = len(s)\n",
    "    \n",
    "    # If the length of the string is less than three, return the original string\n",
    "    if length < 3:\n",
    "        return s\n",
    "    \n",
    "    # Calculate the middle index\n",
    "    mid_index = length // 2\n",
    "    \n",
    "    # If the length is odd, return the middle three characters\n",
    "    if length % 2 != 0:\n",
    "        return s[mid_index - 1:mid_index + 2]\n",
    "    # If the length is even, return the middle two characters\n",
    "    else:\n",
    "        return s[mid_index - 1:mid_index + 1]\n",
    "\n",
    "# Test cases\n",
    "print(middle_three_chars(\"abcdef\"))  # Output: \"bcd\"\n",
    "print(middle_three_chars(\"abcde\"))   # Output: \"bcd\"\n",
    "print(middle_three_chars(\"abc\"))     # Output: \"abc\"\n",
    "print(middle_three_chars(\"ab\"))      # Output: \"ab\"\n",
    "print(middle_three_chars(\"a\"))       # Output: \"a\"\n"
   ]
  },
  {
   "cell_type": "markdown",
   "id": "1048dd3d",
   "metadata": {},
   "source": [
    "."
   ]
  },
  {
   "cell_type": "markdown",
   "id": "ad23bd46",
   "metadata": {},
   "source": [
    "# List Operations:"
   ]
  },
  {
   "cell_type": "markdown",
   "id": "fcc8069c",
   "metadata": {},
   "source": [
    "---List operations are essential in programming for manipulating collections of data. \n",
    "---They include actions like adding, removing, and accessing elements within a list.\n",
    "---These operations provide flexibility in managing lists, making them fundamental in various programming tasks."
   ]
  },
  {
   "cell_type": "markdown",
   "id": "02c416f0",
   "metadata": {},
   "source": [
    "1.How can you append an element to the end of a list?"
   ]
  },
  {
   "cell_type": "code",
   "execution_count": 10,
   "id": "81158519",
   "metadata": {},
   "outputs": [
    {
     "name": "stdout",
     "output_type": "stream",
     "text": [
      "List after appending: [1, 2, 3, 4]\n"
     ]
    }
   ],
   "source": [
    "my_list = [1, 2, 3]\n",
    "my_list.append(4)\n",
    "print(\"List after appending:\", my_list)\n"
   ]
  },
  {
   "cell_type": "markdown",
   "id": "631f2b6e",
   "metadata": {},
   "source": [
    "."
   ]
  },
  {
   "cell_type": "markdown",
   "id": "676fa1ed",
   "metadata": {},
   "source": [
    "2.  How would you insert an element at a specific index in a list?"
   ]
  },
  {
   "cell_type": "code",
   "execution_count": 11,
   "id": "2f36d5a5",
   "metadata": {},
   "outputs": [
    {
     "name": "stdout",
     "output_type": "stream",
     "text": [
      "List after insertion: [1, 2, 3, 4, 5]\n"
     ]
    }
   ],
   "source": [
    "\n",
    "my_list = [1, 2, 3, 5]\n",
    "my_list.insert(3, 4)                                                                                      # Insert 4 at index 3\n",
    "print(\"List after insertion:\", my_list)\n"
   ]
  },
  {
   "cell_type": "markdown",
   "id": "a7582913",
   "metadata": {},
   "source": [
    "."
   ]
  },
  {
   "cell_type": "markdown",
   "id": "6354a17c",
   "metadata": {},
   "source": [
    "3. Can you remove an element from a list by value?"
   ]
  },
  {
   "cell_type": "code",
   "execution_count": 63,
   "id": "478a6d81",
   "metadata": {},
   "outputs": [
    {
     "name": "stdout",
     "output_type": "stream",
     "text": [
      "List after removal: [1, 2, 4, 5]\n"
     ]
    }
   ],
   "source": [
    "\n",
    "my_list = [1, 2, 3, 4, 5]\n",
    "my_list.remove(3)                                                                            # Remove the value 3 from the list\n",
    "print(\"List after removal:\", my_list)\n"
   ]
  },
  {
   "cell_type": "markdown",
   "id": "cfebfa99",
   "metadata": {},
   "source": [
    "."
   ]
  },
  {
   "cell_type": "markdown",
   "id": "b1ab76a7",
   "metadata": {},
   "source": [
    "4.Write a Python function remove_duplicates that takes a list as input and returns a new list with duplicate elements removed\n",
    "while preserving the original order of elements."
   ]
  },
  {
   "cell_type": "code",
   "execution_count": 65,
   "id": "4c4c648f",
   "metadata": {},
   "outputs": [
    {
     "name": "stdout",
     "output_type": "stream",
     "text": [
      "[1, 2, 3, 4, 5]\n",
      "['apple', 'banana']\n",
      "[]\n"
     ]
    }
   ],
   "source": [
    "def remove_duplicates(lst):\n",
    "    seen = set()  # Set to keep track of seen elements\n",
    "    result = []   # List to store unique elements while preserving order\n",
    "    \n",
    "    for item in lst:\n",
    "        if item not in seen:\n",
    "            result.append(item)\n",
    "            seen.add(item)\n",
    "    \n",
    "    return result\n",
    "\n",
    "# Test cases\n",
    "print(remove_duplicates([1, 2, 3, 3, 4, 4, 5]))            # Output: [1, 2, 3, 4, 5]\n",
    "print(remove_duplicates([\"apple\", \"banana\", \"apple\"]))    # Output: [\"apple\", \"banana\"]\n",
    "print(remove_duplicates([]))                               # Output: []\n"
   ]
  },
  {
   "cell_type": "markdown",
   "id": "f0f4791b",
   "metadata": {},
   "source": [
    "."
   ]
  },
  {
   "cell_type": "markdown",
   "id": "3a939b3e",
   "metadata": {},
   "source": [
    "# Dictionary Operations:"
   ]
  },
  {
   "cell_type": "markdown",
   "id": "2320408b",
   "metadata": {},
   "source": [
    "---Dictionary operations are essential in programming for managing key-value pairs. \n",
    "---They include insertion, access, update, deletion, existence check, and retrieval of keys, values, and items. \n",
    "---These operations facilitate efficient storage and manipulation of data, making dictionaries a fundamental tool in programming \n",
    "   for tasks like data organization, caching, and more."
   ]
  },
  {
   "cell_type": "markdown",
   "id": "d3e21a9a",
   "metadata": {},
   "source": [
    "1.How do you add a new key-value pair to a dictionary?"
   ]
  },
  {
   "cell_type": "code",
   "execution_count": 66,
   "id": "2c06a95d",
   "metadata": {},
   "outputs": [
    {
     "name": "stdout",
     "output_type": "stream",
     "text": [
      "Dictionary after addition: {'a': 1, 'b': 2, 'c': 3}\n"
     ]
    }
   ],
   "source": [
    "\n",
    "my_dict = {'a': 1, 'b': 2}\n",
    "my_dict['c'] = 3                                                                              # Add a new key-value pair 'c': 3\n",
    "print(\"Dictionary after addition:\", my_dict)\n"
   ]
  },
  {
   "cell_type": "markdown",
   "id": "d2c5d481",
   "metadata": {},
   "source": [
    "."
   ]
  },
  {
   "cell_type": "markdown",
   "id": "47a29d8c",
   "metadata": {},
   "source": [
    "2.How can you update the value of an existing key in a dictionary?"
   ]
  },
  {
   "cell_type": "code",
   "execution_count": 67,
   "id": "099acf86",
   "metadata": {},
   "outputs": [
    {
     "name": "stdout",
     "output_type": "stream",
     "text": [
      "Dictionary after update: {'a': 10, 'b': 2}\n"
     ]
    }
   ],
   "source": [
    "\n",
    "my_dict = {'a': 1, 'b': 2}\n",
    "my_dict['a'] = 10                                                                           # Update the value of key 'a' to 10\n",
    "print(\"Dictionary after update:\", my_dict)\n"
   ]
  },
  {
   "cell_type": "markdown",
   "id": "197e0748",
   "metadata": {},
   "source": [
    "."
   ]
  },
  {
   "cell_type": "markdown",
   "id": "ad476c2b",
   "metadata": {},
   "source": [
    "3.What method can you use to remove a key-value pair from a dictionary?"
   ]
  },
  {
   "cell_type": "code",
   "execution_count": 68,
   "id": "8693da0f",
   "metadata": {},
   "outputs": [
    {
     "name": "stdout",
     "output_type": "stream",
     "text": [
      "Dictionary after deletion: {'a': 1, 'c': 3}\n"
     ]
    }
   ],
   "source": [
    "\n",
    "my_dict = {'a': 1, 'b': 2, 'c': 3}\n",
    "del my_dict['b']                                                                        # Remove the key-value pair with key 'b'\n",
    "print(\"Dictionary after deletion:\", my_dict)\n"
   ]
  },
  {
   "cell_type": "markdown",
   "id": "3ef1415a",
   "metadata": {},
   "source": [
    "."
   ]
  },
  {
   "cell_type": "markdown",
   "id": "b355772b",
   "metadata": {},
   "source": [
    "4.Write a Python function merge_dicts that takes two dictionaries as input and returns a new dictionary containing\n",
    "all the key-value pairs from both dictionaries. If a key exists in both dictionaries, the value from the second dictionary\n",
    "should be used."
   ]
  },
  {
   "cell_type": "code",
   "execution_count": 69,
   "id": "5354d167",
   "metadata": {},
   "outputs": [
    {
     "name": "stdout",
     "output_type": "stream",
     "text": [
      "{'a': 1, 'b': 3, 'c': 4}\n"
     ]
    }
   ],
   "source": [
    "def merge_dicts(dict1, dict2):\n",
    "    merged_dict = dict1.copy()  # Create a copy of the first dictionary\n",
    "    \n",
    "    # Update the copy with key-value pairs from the second dictionary\n",
    "    merged_dict.update(dict2)\n",
    "    \n",
    "    return merged_dict\n",
    "\n",
    "# Test cases\n",
    "dict1 = {'a': 1, 'b': 2}\n",
    "dict2 = {'b': 3, 'c': 4}\n",
    "print(merge_dicts(dict1, dict2))  # Output: {'a': 1, 'b': 3, 'c': 4}\n"
   ]
  },
  {
   "cell_type": "markdown",
   "id": "4c8651ea",
   "metadata": {},
   "source": [
    "."
   ]
  },
  {
   "cell_type": "markdown",
   "id": "06124f64",
   "metadata": {},
   "source": [
    "\n",
    "# len() Function:"
   ]
  },
  {
   "cell_type": "markdown",
   "id": "51036f7d",
   "metadata": {},
   "source": [
    " ---The len() function in Python is a built-in function used to determine the length or size of an object. \n",
    " ---It's primarily used with data structures like strings, lists, tuples, dictionaries, and sets to find the number of elements \n",
    " contained within them."
   ]
  },
  {
   "cell_type": "markdown",
   "id": "4a3ba9f4",
   "metadata": {},
   "source": [
    "1.How can you use the len() function to determine the number of elements in a list?"
   ]
  },
  {
   "cell_type": "code",
   "execution_count": 16,
   "id": "4de43fad",
   "metadata": {},
   "outputs": [
    {
     "name": "stdout",
     "output_type": "stream",
     "text": [
      "The length of the list is: 5\n"
     ]
    }
   ],
   "source": [
    "\n",
    "my_list = [1, 2, 3, 4, 5]\n",
    "print(\"The length of the list is:\", len(my_list))\n"
   ]
  },
  {
   "cell_type": "markdown",
   "id": "54cd528a",
   "metadata": {},
   "source": [
    "."
   ]
  },
  {
   "cell_type": "markdown",
   "id": "91b1eff6",
   "metadata": {},
   "source": [
    "2.Can you use the len() function to find the number of characters in a string?"
   ]
  },
  {
   "cell_type": "code",
   "execution_count": 17,
   "id": "81a81b0d",
   "metadata": {},
   "outputs": [
    {
     "name": "stdout",
     "output_type": "stream",
     "text": [
      "The length of the string is: 13\n"
     ]
    }
   ],
   "source": [
    "\n",
    "my_string = \"Hello, World!\"\n",
    "print(\"The length of the string is:\", len(my_string))\n"
   ]
  },
  {
   "cell_type": "markdown",
   "id": "c63af1e9",
   "metadata": {},
   "source": [
    "."
   ]
  },
  {
   "cell_type": "markdown",
   "id": "4331350c",
   "metadata": {},
   "source": [
    "3.How does the len() function behave with an empty list?"
   ]
  },
  {
   "cell_type": "code",
   "execution_count": 18,
   "id": "b9ecbd6f",
   "metadata": {},
   "outputs": [
    {
     "name": "stdout",
     "output_type": "stream",
     "text": [
      "The length of the empty list is: 0\n"
     ]
    }
   ],
   "source": [
    "\n",
    "empty_list = []\n",
    "print(\"The length of the empty list is:\", len(empty_list))\n"
   ]
  },
  {
   "cell_type": "markdown",
   "id": "07f14827",
   "metadata": {},
   "source": [
    "."
   ]
  },
  {
   "cell_type": "markdown",
   "id": "e20fc4a4",
   "metadata": {},
   "source": [
    "4.Write a Python function longest_word that takes a list of words as input and returns the longest word in the list.\n",
    "If there are multiple words with the same maximum length, return the first one encountered."
   ]
  },
  {
   "cell_type": "code",
   "execution_count": 71,
   "id": "b258ab61",
   "metadata": {},
   "outputs": [
    {
     "name": "stdout",
     "output_type": "stream",
     "text": [
      "grapefruit\n"
     ]
    }
   ],
   "source": [
    "def longest_word(words):\n",
    "    if not words:  # Check if the list is empty\n",
    "        return None\n",
    "    \n",
    "    max_length = 0\n",
    "    longest = None\n",
    "    \n",
    "    for word in words:\n",
    "        if len(word) > max_length:\n",
    "            max_length = len(word)\n",
    "            longest = word\n",
    "    \n",
    "    return longest\n",
    "\n",
    "# Test cases\n",
    "word_list = [\"apple\", \"banana\", \"grapefruit\", \"orange\"]\n",
    "print(longest_word(word_list))  # Output: \"grapefruit\"\n"
   ]
  },
  {
   "cell_type": "markdown",
   "id": "d76051e5",
   "metadata": {},
   "source": [
    "."
   ]
  },
  {
   "cell_type": "markdown",
   "id": "1bf9c2d0",
   "metadata": {},
   "source": [
    "# sum() Function:"
   ]
  },
  {
   "cell_type": "markdown",
   "id": "c76569f6",
   "metadata": {},
   "source": [
    "\n",
    "---The sum() function in Python calculates the total sum of numeric elements in an iterable, like lists or tuples, with \n",
    "   an optional starting value. \n",
    "---It's succinctly expressed as sum(iterable, start=0), where iterable contains numeric values to be summed, and start is \n",
    "   an optional value added to the sum. \n",
    "---This function is handy for aggregating numerical data and computing totals efficiently in various programming tasks."
   ]
  },
  {
   "cell_type": "markdown",
   "id": "9bfdc97c",
   "metadata": {},
   "source": [
    "1.How can you use the sum() function to find the total sum of elements in a list?"
   ]
  },
  {
   "cell_type": "code",
   "execution_count": 19,
   "id": "4291ea92",
   "metadata": {},
   "outputs": [
    {
     "name": "stdout",
     "output_type": "stream",
     "text": [
      "The sum of the numbers is: 15\n"
     ]
    }
   ],
   "source": [
    "\n",
    "my_numbers = [1, 2, 3, 4, 5]\n",
    "print(\"The sum of the numbers is:\", sum(my_numbers))\n"
   ]
  },
  {
   "cell_type": "markdown",
   "id": "1f664d6e",
   "metadata": {},
   "source": [
    "."
   ]
  },
  {
   "cell_type": "markdown",
   "id": "b11793ee",
   "metadata": {},
   "source": [
    "2.Can you use the sum() function to find the sum of a tuple?"
   ]
  },
  {
   "cell_type": "code",
   "execution_count": 20,
   "id": "62d4729b",
   "metadata": {},
   "outputs": [
    {
     "name": "stdout",
     "output_type": "stream",
     "text": [
      "The sum of the tuple elements is: 15\n"
     ]
    }
   ],
   "source": [
    "\n",
    "my_tuple = (1, 2, 3, 4, 5)\n",
    "print(\"The sum of the tuple elements is:\", sum(my_tuple))\n"
   ]
  },
  {
   "cell_type": "markdown",
   "id": "7096a851",
   "metadata": {},
   "source": [
    "."
   ]
  },
  {
   "cell_type": "markdown",
   "id": "cc6295fe",
   "metadata": {},
   "source": [
    "3.Write a Python function sum_of_even_numbers that takes a list of integers as input and returns the sum of all the even numbers in the list."
   ]
  },
  {
   "cell_type": "code",
   "execution_count": 74,
   "id": "7a2bd2d2",
   "metadata": {},
   "outputs": [
    {
     "name": "stdout",
     "output_type": "stream",
     "text": [
      "30\n"
     ]
    }
   ],
   "source": [
    "def sum_of_even_numbers(numbers):\n",
    "    return sum(num for num in numbers if num % 2 == 0)\n",
    "\n",
    "# Test cases\n",
    "number_list = [1, 2, 3, 4, 5, 6, 7, 8, 9, 10]\n",
    "print(sum_of_even_numbers(number_list))  # Output: 30 (2 + 4 + 6 + 8 + 10 = 30)\n"
   ]
  },
  {
   "cell_type": "markdown",
   "id": "4385e96e",
   "metadata": {},
   "source": [
    "."
   ]
  },
  {
   "cell_type": "markdown",
   "id": "fabdc361",
   "metadata": {},
   "source": [
    "4.Write a Python function sum_of_elements that takes a list of numbers as input and returns the sum of all the elements in the list."
   ]
  },
  {
   "cell_type": "code",
   "execution_count": 73,
   "id": "90850c16",
   "metadata": {},
   "outputs": [
    {
     "name": "stdout",
     "output_type": "stream",
     "text": [
      "15\n"
     ]
    }
   ],
   "source": [
    "def sum_of_elements(numbers):\n",
    "    return sum(numbers)\n",
    "\n",
    "# Test cases\n",
    "number_list = [1, 2, 3, 4, 5]\n",
    "print(sum_of_elements(number_list))  # Output: 15\n"
   ]
  },
  {
   "cell_type": "markdown",
   "id": "8f43545e",
   "metadata": {},
   "source": [
    "."
   ]
  },
  {
   "cell_type": "markdown",
   "id": "a97c6152",
   "metadata": {},
   "source": [
    "# max() Function:"
   ]
  },
  {
   "cell_type": "markdown",
   "id": "320c3c1f",
   "metadata": {},
   "source": [
    "\n",
    "---The max() function in Python returns the maximum value from a sequence or collection.\n",
    "---Its syntax, max(iterable, *iterables, key=default, default=object), allows comparison of multiple sequences with optional key      functions. \n",
    "---Parameters include the iterable(s) to analyze, a comparison key, and a default value if the sequence is empty.\n",
    "---For example, max([3, 7, 2, 5]) returns 7. It's essential for quickly identifying the highest value in data sets, aiding in      tasks like finding the largest number in a list or selecting the latest timestamp in a dataset."
   ]
  },
  {
   "cell_type": "markdown",
   "id": "68f259fa",
   "metadata": {},
   "source": [
    "1. How can you use the max() function to find the largest element in a list?"
   ]
  },
  {
   "cell_type": "code",
   "execution_count": null,
   "id": "c4acfe42",
   "metadata": {},
   "outputs": [],
   "source": [
    "\n",
    "my_numbers = [1, 5, 3, 9, 7]\n",
    "print(\"The maximum number in the list is:\", max(my_numbers))\n"
   ]
  },
  {
   "cell_type": "markdown",
   "id": "966c4c43",
   "metadata": {},
   "source": [
    "."
   ]
  },
  {
   "cell_type": "markdown",
   "id": "d3b41e78",
   "metadata": {},
   "source": [
    "2.Can you use the max() function to find the maximum character in a string?"
   ]
  },
  {
   "cell_type": "code",
   "execution_count": null,
   "id": "3ffbb6a5",
   "metadata": {},
   "outputs": [],
   "source": [
    "\n",
    "my_string = \"hello\"\n",
    "print(\"The maximum character in the string is:\", max(my_string))\n"
   ]
  },
  {
   "cell_type": "markdown",
   "id": "54851db7",
   "metadata": {},
   "source": [
    "."
   ]
  },
  {
   "cell_type": "markdown",
   "id": "51e87628",
   "metadata": {},
   "source": [
    "3.What happens if you try to use the max() function on an empty list?"
   ]
  },
  {
   "cell_type": "code",
   "execution_count": null,
   "id": "ba1dadcc",
   "metadata": {},
   "outputs": [],
   "source": [
    "\n",
    "empty_list = []\n",
    "print(\"The maximum element in the empty list is:\", max(empty_list))                              # This will raise a ValueError\n"
   ]
  },
  {
   "cell_type": "markdown",
   "id": "5f003d67",
   "metadata": {},
   "source": [
    "."
   ]
  },
  {
   "cell_type": "markdown",
   "id": "fcfba6ae",
   "metadata": {},
   "source": [
    "4.Write a Python function max_of_list that takes a list of numbers as input and returns the maximum number in the list. If the list is empty, return None."
   ]
  },
  {
   "cell_type": "code",
   "execution_count": 75,
   "id": "afb6703d",
   "metadata": {},
   "outputs": [
    {
     "name": "stdout",
     "output_type": "stream",
     "text": [
      "7\n"
     ]
    }
   ],
   "source": [
    "def max_of_list(numbers):\n",
    "    if not numbers:\n",
    "        return None\n",
    "    return max(numbers)\n",
    "\n",
    "# Test cases\n",
    "number_list = [1, 5, 3, 7, 2]\n",
    "print(max_of_list(number_list))  # Output: 7\n"
   ]
  },
  {
   "cell_type": "markdown",
   "id": "2b067656",
   "metadata": {},
   "source": [
    "."
   ]
  },
  {
   "cell_type": "markdown",
   "id": "970fbc76",
   "metadata": {},
   "source": [
    "# min() Function:"
   ]
  },
  {
   "cell_type": "markdown",
   "id": "6dced0a6",
   "metadata": {},
   "source": [
    "\n",
    "---The min() function in Python returns the minimum value from a sequence or collection.\n",
    "---Its syntax, min(iterable, *iterables, key=default, default=object), allows comparison of multiple sequences with optional key\n",
    "   functions.\n",
    "---Parameters include the iterable(s) to analyze, a comparison key, and a default value if the sequence is empty. \n",
    "   For example, min([3, 7, 2, 5]) returns 2. \n",
    "---It's crucial for quickly identifying the smallest value in data sets, aiding in tasks like finding the smallest number in \n",
    "   a list or selecting the earliest timestamp in a dataset."
   ]
  },
  {
   "cell_type": "markdown",
   "id": "1b291038",
   "metadata": {},
   "source": [
    "1.How can you use the min() function to find the smallest element in a list?"
   ]
  },
  {
   "cell_type": "code",
   "execution_count": null,
   "id": "31634e9e",
   "metadata": {},
   "outputs": [],
   "source": [
    "\n",
    "my_numbers = [5, 2, 8, 3, 1]\n",
    "print(\"The minimum number in the list is:\", min(my_numbers))\n"
   ]
  },
  {
   "cell_type": "markdown",
   "id": "3455915a",
   "metadata": {},
   "source": [
    "."
   ]
  },
  {
   "cell_type": "markdown",
   "id": "bdabf7fc",
   "metadata": {},
   "source": [
    "2.Can you use the min() function to find the minimum character in a string?"
   ]
  },
  {
   "cell_type": "code",
   "execution_count": null,
   "id": "592d233d",
   "metadata": {},
   "outputs": [],
   "source": [
    "\n",
    "my_string = \"hello\"\n",
    "print(\"The minimum character in the string is:\", min(my_string))\n"
   ]
  },
  {
   "cell_type": "markdown",
   "id": "7318a0ef",
   "metadata": {},
   "source": [
    "."
   ]
  },
  {
   "cell_type": "markdown",
   "id": "17655c98",
   "metadata": {},
   "source": [
    "3.Write a Python function min_of_list that takes a list of numbers as input and returns the minimum number in the list. If the list is empty, return None."
   ]
  },
  {
   "cell_type": "code",
   "execution_count": 76,
   "id": "e4a10422",
   "metadata": {},
   "outputs": [
    {
     "name": "stdout",
     "output_type": "stream",
     "text": [
      "1\n"
     ]
    }
   ],
   "source": [
    "def min_of_list(numbers):\n",
    "    if not numbers:\n",
    "        return None\n",
    "    return min(numbers)\n",
    "\n",
    "# Test cases\n",
    "number_list = [1, 5, 3, 7, 2]\n",
    "print(min_of_list(number_list))  # Output: 1\n",
    "\n"
   ]
  },
  {
   "cell_type": "markdown",
   "id": "364ce807",
   "metadata": {},
   "source": [
    "."
   ]
  },
  {
   "cell_type": "markdown",
   "id": "5d08fe0e",
   "metadata": {},
   "source": [
    "4.Write a Python function min_length_string that takes a list of strings as input and returns the \n",
    "string with the minimum length. If multiple strings have the same minimum length, return the first one encountered. \n",
    "If the list is empty, return None."
   ]
  },
  {
   "cell_type": "code",
   "execution_count": 77,
   "id": "d4ecc326",
   "metadata": {},
   "outputs": [
    {
     "name": "stdout",
     "output_type": "stream",
     "text": [
      "kiwi\n"
     ]
    }
   ],
   "source": [
    "def min_length_string(strings):\n",
    "    if not strings:\n",
    "        return None\n",
    "    return min(strings, key=len)\n",
    "\n",
    "# Test cases\n",
    "string_list = [\"apple\", \"banana\", \"grape\", \"kiwi\"]\n",
    "print(min_length_string(string_list))  # Output: \"kiwi\"\n"
   ]
  },
  {
   "cell_type": "markdown",
   "id": "25704bab",
   "metadata": {},
   "source": [
    "."
   ]
  },
  {
   "cell_type": "markdown",
   "id": "0e201654",
   "metadata": {},
   "source": [
    "# abs() Function:"
   ]
  },
  {
   "cell_type": "markdown",
   "id": "e9510545",
   "metadata": {},
   "source": [
    "\n",
    "---The abs() function in Python returns the absolute value of a number, disregarding its sign.\n",
    "---Its syntax is abs(x), where x is the number whose absolute value is sought. For instance, abs(-5) returns 5.\n",
    "---It's essential for tasks like distance calculation, error handling, and ensuring positive values in mathematical operations."
   ]
  },
  {
   "cell_type": "markdown",
   "id": "e763074c",
   "metadata": {},
   "source": [
    "1.How can you use the abs() function to find the absolute value of a positive number?"
   ]
  },
  {
   "cell_type": "code",
   "execution_count": 23,
   "id": "846298f5",
   "metadata": {},
   "outputs": [
    {
     "name": "stdout",
     "output_type": "stream",
     "text": [
      "The absolute value of 10 is: 10\n"
     ]
    }
   ],
   "source": [
    "\n",
    "positive_num = 10\n",
    "print(\"The absolute value of\", positive_num, \"is:\", abs(positive_num))\n"
   ]
  },
  {
   "cell_type": "markdown",
   "id": "1cc2e1ec",
   "metadata": {},
   "source": [
    "."
   ]
  },
  {
   "cell_type": "markdown",
   "id": "7a600752",
   "metadata": {},
   "source": [
    "2.Can you use the abs() function to find the absolute value of a negative number?"
   ]
  },
  {
   "cell_type": "code",
   "execution_count": 24,
   "id": "33a6d45b",
   "metadata": {},
   "outputs": [
    {
     "name": "stdout",
     "output_type": "stream",
     "text": [
      "The absolute value of -5 is: 5\n"
     ]
    }
   ],
   "source": [
    "\n",
    "negative_num = -5\n",
    "print(\"The absolute value of\", negative_num, \"is:\", abs(negative_num))\n"
   ]
  },
  {
   "cell_type": "markdown",
   "id": "f3c670a8",
   "metadata": {},
   "source": [
    "."
   ]
  },
  {
   "cell_type": "markdown",
   "id": "b2a48bf6",
   "metadata": {},
   "source": [
    "3.Write a Python function absolute_difference that takes two numbers as input and returns the absolute difference between them."
   ]
  },
  {
   "cell_type": "code",
   "execution_count": 78,
   "id": "170163b7",
   "metadata": {},
   "outputs": [
    {
     "name": "stdout",
     "output_type": "stream",
     "text": [
      "3\n"
     ]
    }
   ],
   "source": [
    "def absolute_difference(a, b):\n",
    "    return abs(a - b)\n",
    "\n",
    "# Test cases\n",
    "num1 = 10\n",
    "num2 = 7\n",
    "print(absolute_difference(num1, num2))  # Output: 3\n"
   ]
  },
  {
   "cell_type": "markdown",
   "id": "70112684",
   "metadata": {},
   "source": [
    "."
   ]
  },
  {
   "cell_type": "markdown",
   "id": "6529d81b",
   "metadata": {},
   "source": [
    "4.Write a Python function closest_to_zero that takes a list of numbers as input and returns the number closest to zero. If there are multiple numbers equidistant from zero, return the positive one. If the list is empty, return None."
   ]
  },
  {
   "cell_type": "code",
   "execution_count": 80,
   "id": "bad36c77",
   "metadata": {},
   "outputs": [
    {
     "name": "stdout",
     "output_type": "stream",
     "text": [
      "-1\n"
     ]
    }
   ],
   "source": [
    "def closest_to_zero(numbers):\n",
    "    if not numbers:\n",
    "        return None\n",
    "    return min(numbers, key=lambda x: (abs(x), x > 0))\n",
    "\n",
    "# Test cases\n",
    "number_list = [-4, -2, 3, 5, -1, 2]\n",
    "print(closest_to_zero(number_list))  # Output: 1\n"
   ]
  },
  {
   "cell_type": "markdown",
   "id": "033335ad",
   "metadata": {},
   "source": [
    "."
   ]
  },
  {
   "cell_type": "markdown",
   "id": "33b350d4",
   "metadata": {},
   "source": [
    "# sorted() Function:"
   ]
  },
  {
   "cell_type": "markdown",
   "id": "455b9b23",
   "metadata": {},
   "source": [
    "---The sorted() function in Python returns a sorted list from the elements of an iterable.\n",
    "---Its syntax is sorted(iterable, key=None, reverse=False). \n",
    "---Parameters include the iterable to sort, an optional key function for custom sorting, and a flag for reverse sorting. \n",
    "---For example, sorted([3, 1, 4, 2]) returns [1, 2, 3, 4]. \n",
    "---It's valuable for arranging data in ascending or descending order, aiding in tasks like sorting lists, tuples, or\n",
    "   dictionaries based on specific criteria."
   ]
  },
  {
   "cell_type": "markdown",
   "id": "86684300",
   "metadata": {},
   "source": [
    "1.How can you use the sorted() function to sort a list of numbers in ascending order?"
   ]
  },
  {
   "cell_type": "code",
   "execution_count": 26,
   "id": "3e9c7feb",
   "metadata": {},
   "outputs": [
    {
     "name": "stdout",
     "output_type": "stream",
     "text": [
      "The sorted list in ascending order is: [1, 2, 3, 4, 5]\n"
     ]
    }
   ],
   "source": [
    "\n",
    "my_numbers = [3, 1, 4, 2, 5]\n",
    "sorted_numbers = sorted(my_numbers)\n",
    "print(\"The sorted list in ascending order is:\", sorted_numbers)\n"
   ]
  },
  {
   "cell_type": "markdown",
   "id": "135301a1",
   "metadata": {},
   "source": [
    "."
   ]
  },
  {
   "cell_type": "markdown",
   "id": "3cae280c",
   "metadata": {},
   "source": [
    "2.Can you use the sorted() function to sort a string alphabetically?"
   ]
  },
  {
   "cell_type": "code",
   "execution_count": 27,
   "id": "87e4b6c8",
   "metadata": {},
   "outputs": [
    {
     "name": "stdout",
     "output_type": "stream",
     "text": [
      "The sorted string alphabetically is: ehllo\n"
     ]
    }
   ],
   "source": [
    "\n",
    "my_string = \"hello\"\n",
    "sorted_string = sorted(my_string)\n",
    "print(\"The sorted string alphabetically is:\", ''.join(sorted_string))\n"
   ]
  },
  {
   "cell_type": "markdown",
   "id": "15da16f0",
   "metadata": {},
   "source": [
    "."
   ]
  },
  {
   "cell_type": "markdown",
   "id": "3720b369",
   "metadata": {},
   "source": [
    "3.What happens if you try to use the sorted() function on a dictionary?"
   ]
  },
  {
   "cell_type": "code",
   "execution_count": 28,
   "id": "443dac1f",
   "metadata": {},
   "outputs": [
    {
     "name": "stdout",
     "output_type": "stream",
     "text": [
      "The sorted dictionary keys are: ['a', 'b', 'c']\n"
     ]
    }
   ],
   "source": [
    "\n",
    "my_dict = {'b': 2, 'a': 1, 'c': 3}\n",
    "sorted_dict = sorted(my_dict)                                                           # This will return a list of sorted keys\n",
    "print(\"The sorted dictionary keys are:\", sorted_dict)\n"
   ]
  },
  {
   "cell_type": "markdown",
   "id": "d47d6f1e",
   "metadata": {},
   "source": [
    "."
   ]
  },
  {
   "cell_type": "markdown",
   "id": "24cb3caa",
   "metadata": {},
   "source": [
    "4.Write a Python function sort_numbers that takes a list of numbers as input and returns a new list containing the numbers sorted in ascending order."
   ]
  },
  {
   "cell_type": "code",
   "execution_count": 81,
   "id": "4212895b",
   "metadata": {},
   "outputs": [
    {
     "name": "stdout",
     "output_type": "stream",
     "text": [
      "[1, 2, 3, 5, 7]\n"
     ]
    }
   ],
   "source": [
    "def sort_numbers(numbers):\n",
    "    return sorted(numbers)\n",
    "\n",
    "# Test cases\n",
    "number_list = [5, 2, 7, 1, 3]\n",
    "print(sort_numbers(number_list))  # Output: [1, 2, 3, 5, 7]\n"
   ]
  },
  {
   "cell_type": "markdown",
   "id": "08543ca6",
   "metadata": {},
   "source": [
    "."
   ]
  },
  {
   "cell_type": "markdown",
   "id": "0c9dbba9",
   "metadata": {},
   "source": [
    "# Class Creation:"
   ]
  },
  {
   "cell_type": "markdown",
   "id": "0fc25d60",
   "metadata": {},
   "source": [
    "---Attributes define object properties, methods represent behaviors, and __init__() initializes attributes. \n",
    "---Objects are created by calling the class name with parentheses. \n",
    "---This process enables structured programming, code reusability, and encapsulation in Python"
   ]
  },
  {
   "cell_type": "markdown",
   "id": "61912170",
   "metadata": {},
   "source": [
    "1.How can you define a simple class in Python?"
   ]
  },
  {
   "cell_type": "code",
   "execution_count": 29,
   "id": "676c71cc",
   "metadata": {},
   "outputs": [
    {
     "name": "stdout",
     "output_type": "stream",
     "text": [
      "Value of x: 5\n"
     ]
    }
   ],
   "source": [
    "\n",
    "class MyClass:\n",
    "    def __init__(self, x):\n",
    "        self.x = x\n",
    "\n",
    "    def display(self):\n",
    "        print(\"Value of x:\", self.x)\n",
    "\n",
    "# Creating an object of MyClass\n",
    "obj = MyClass(5)\n",
    "obj.display()\n"
   ]
  },
  {
   "cell_type": "markdown",
   "id": "232b141a",
   "metadata": {},
   "source": [
    "."
   ]
  },
  {
   "cell_type": "markdown",
   "id": "a90493fa",
   "metadata": {},
   "source": [
    "2.What is the purpose of the __init__ method in a Python class?"
   ]
  },
  {
   "cell_type": "code",
   "execution_count": 30,
   "id": "9e71d122",
   "metadata": {},
   "outputs": [],
   "source": [
    "\n",
    "class MyClass:\n",
    "    def __init__(self, x):\n",
    "        self.x = x\n",
    "\n",
    "    def display(self):\n",
    "        print(\"Value of x:\", self.x)\n",
    "\n",
    "# The __init__ method initializes the object with specified values.\n",
    "# Here, it initializes the 'x' attribute with the value passed during object creation.\n"
   ]
  },
  {
   "cell_type": "markdown",
   "id": "f7b26203",
   "metadata": {},
   "source": [
    "."
   ]
  },
  {
   "cell_type": "markdown",
   "id": "9dab46e1",
   "metadata": {},
   "source": [
    "3.How can you create multiple objects of the same class with different initial values?"
   ]
  },
  {
   "cell_type": "code",
   "execution_count": 31,
   "id": "0d944647",
   "metadata": {},
   "outputs": [
    {
     "name": "stdout",
     "output_type": "stream",
     "text": [
      "Value of x: 5\n",
      "Value of x: 10\n"
     ]
    }
   ],
   "source": [
    "\n",
    "class MyClass:\n",
    "    def __init__(self, x):\n",
    "        self.x = x\n",
    "\n",
    "    def display(self):\n",
    "        print(\"Value of x:\", self.x)\n",
    "\n",
    "# Creating multiple objects with different initial values\n",
    "obj1 = MyClass(5)\n",
    "obj2 = MyClass(10)\n",
    "\n",
    "obj1.display()\n",
    "obj2.display()\n"
   ]
  },
  {
   "cell_type": "markdown",
   "id": "2609012d",
   "metadata": {},
   "source": [
    "."
   ]
  },
  {
   "cell_type": "markdown",
   "id": "2108c79c",
   "metadata": {},
   "source": [
    "4.Create a Python class called Rectangle. The class should have attributes width and height, \n",
    "and methods area() to calculate the area of the rectangle and perimeter() to calculate the perimeter of the rectangle."
   ]
  },
  {
   "cell_type": "code",
   "execution_count": 98,
   "id": "2db926f7",
   "metadata": {},
   "outputs": [
    {
     "name": "stdout",
     "output_type": "stream",
     "text": [
      "Area: 15\n",
      "Perimeter: 16\n"
     ]
    }
   ],
   "source": [
    "class Rectangle:\n",
    "    def __init__(self, width, height):\n",
    "        self.width = width\n",
    "        self.height = height\n",
    "\n",
    "    def area(self):\n",
    "        return self.width * self.height\n",
    "\n",
    "    def perimeter(self):\n",
    "        return 2 * (self.width + self.height)\n",
    "\n",
    "# Creating an instance of the Rectangle class\n",
    "rect = Rectangle(5, 3)\n",
    "\n",
    "# Testing the methods\n",
    "print(\"Area:\", rect.area())          # Output: 15\n",
    "print(\"Perimeter:\", rect.perimeter())# Output: 16\n"
   ]
  },
  {
   "cell_type": "markdown",
   "id": "e2fe0c2f",
   "metadata": {},
   "source": [
    "."
   ]
  },
  {
   "cell_type": "markdown",
   "id": "9d340a5a",
   "metadata": {},
   "source": [
    "# Class Inheritance:"
   ]
  },
  {
   "cell_type": "markdown",
   "id": "ed8d4cce",
   "metadata": {},
   "source": [
    "---The subclass inherits all superclass attributes and methods and can define its own.\n",
    "---This promotes code reuse, facilitates modular design, and encourages hierarchy-based organization in object-oriented \n",
    "   programming.\n",
    "---Subclasses can extend or override superclass behavior, enhancing flexibility and customization. Overall, inheritance\n",
    "   fosters efficient and structured development by allowing classes to build upon existing functionalities while maintaining\n",
    "   a clear and organized codebase."
   ]
  },
  {
   "cell_type": "markdown",
   "id": "301bc2bf",
   "metadata": {},
   "source": [
    "1.What is class inheritance, and how can you create a subclass in Python?"
   ]
  },
  {
   "cell_type": "code",
   "execution_count": 32,
   "id": "1a99a80d",
   "metadata": {},
   "outputs": [
    {
     "name": "stdout",
     "output_type": "stream",
     "text": [
      "Parent class constructor\n",
      "Child class constructor\n"
     ]
    }
   ],
   "source": [
    "\n",
    "class ParentClass:\n",
    "    def __init__(self):\n",
    "        print(\"Parent class constructor\")\n",
    "\n",
    "class ChildClass(ParentClass):\n",
    "    def __init__(self):\n",
    "        super().__init__()                                                           # Call the constructor of the parent class\n",
    "        print(\"Child class constructor\")\n",
    "\n",
    "# Creating an object of ChildClass\n",
    "obj = ChildClass()\n"
   ]
  },
  {
   "cell_type": "markdown",
   "id": "4abde0c6",
   "metadata": {},
   "source": [
    "."
   ]
  },
  {
   "cell_type": "markdown",
   "id": "34ec26b7",
   "metadata": {},
   "source": [
    "2.How can you override a method from the parent class in the subclass?"
   ]
  },
  {
   "cell_type": "code",
   "execution_count": 33,
   "id": "7952ff9d",
   "metadata": {},
   "outputs": [
    {
     "name": "stdout",
     "output_type": "stream",
     "text": [
      "Child class method\n"
     ]
    }
   ],
   "source": [
    "\n",
    "class ParentClass:\n",
    "    def display(self):\n",
    "        print(\"Parent class method\")\n",
    "\n",
    "class ChildClass(ParentClass):\n",
    "    def display(self):\n",
    "        print(\"Child class method\")\n",
    "\n",
    "# Creating an object of ChildClass\n",
    "obj = ChildClass()\n",
    "obj.display()\n"
   ]
  },
  {
   "cell_type": "markdown",
   "id": "b12f5633",
   "metadata": {},
   "source": [
    "."
   ]
  },
  {
   "cell_type": "markdown",
   "id": "ecf2dfc2",
   "metadata": {},
   "source": [
    "3. Can a subclass have its own attributes and methods in addition to inheriting from the parent class?"
   ]
  },
  {
   "cell_type": "code",
   "execution_count": 34,
   "id": "07286b9d",
   "metadata": {},
   "outputs": [
    {
     "name": "stdout",
     "output_type": "stream",
     "text": [
      "Parent class method\n",
      "Child class method\n"
     ]
    }
   ],
   "source": [
    "\n",
    "class ParentClass:\n",
    "    def parent_method(self):\n",
    "        print(\"Parent class method\")\n",
    "\n",
    "class ChildClass(ParentClass):\n",
    "    def __init__(self, x):\n",
    "        self.x = x\n",
    "\n",
    "    def child_method(self):\n",
    "        print(\"Child class method\")\n",
    "\n",
    "# Creating an object of ChildClass\n",
    "obj = ChildClass(5)\n",
    "obj.parent_method()\n",
    "obj.child_method()\n"
   ]
  },
  {
   "cell_type": "markdown",
   "id": "67e3be0f",
   "metadata": {},
   "source": [
    "."
   ]
  },
  {
   "cell_type": "markdown",
   "id": "543ff515",
   "metadata": {},
   "source": [
    "4.Create a Python class called Animal. This class should have an attribute name and a method speak() that prints a message indicating the type of sound the animal makes.\n",
    "\n",
    "Then, create a subclass called Dog that inherits from Animal. The Dog class should have an additional attribute breed and override the speak() method to print a specific message for a dog's sound."
   ]
  },
  {
   "cell_type": "code",
   "execution_count": 99,
   "id": "eb1e9258",
   "metadata": {},
   "outputs": [
    {
     "name": "stdout",
     "output_type": "stream",
     "text": [
      "The animal makes a sound.\n",
      "Buddy barks.\n"
     ]
    }
   ],
   "source": [
    "class Animal:\n",
    "    def __init__(self, name):\n",
    "        self.name = name\n",
    "    \n",
    "    def speak(self):\n",
    "        print(\"The animal makes a sound.\")\n",
    "\n",
    "class Dog(Animal):\n",
    "    def __init__(self, name, breed):\n",
    "        super().__init__(name)\n",
    "        self.breed = breed\n",
    "    \n",
    "    def speak(self):\n",
    "        print(f\"{self.name} barks.\")\n",
    "\n",
    "# Creating instances of the classes\n",
    "animal = Animal(\"Generic Animal\")\n",
    "dog = Dog(\"Buddy\", \"Labrador\")\n",
    "\n",
    "# Testing the methods\n",
    "animal.speak()  # Output: The animal makes a sound.\n",
    "dog.speak()     # Output: Buddy barks.\n"
   ]
  },
  {
   "cell_type": "markdown",
   "id": "3a3a36e5",
   "metadata": {},
   "source": [
    "."
   ]
  },
  {
   "cell_type": "markdown",
   "id": "767f81f6",
   "metadata": {},
   "source": [
    "# looping statements"
   ]
  },
  {
   "cell_type": "markdown",
   "id": "87d62d9a",
   "metadata": {},
   "source": [
    "---Looping statements in programming, like \"for\" and \"while\" loops, repeatedly execute a block of code\n",
    "   until a specified condition is met.\n",
    "---Syntax varies but typically includes an iteration variable and a condition\n",
    "---For loops iterate over each element in an iterable, while while loops continue executing as long as a condition is true.\n",
    "---Looping statements are fundamental for automating repetitive tasks and iterating over data structures in programming."
   ]
  },
  {
   "cell_type": "markdown",
   "id": "9fe25be8",
   "metadata": {},
   "source": [
    "for Loop:"
   ]
  },
  {
   "cell_type": "markdown",
   "id": "da638663",
   "metadata": {},
   "source": [
    "1.How can you use a for loop to iterate over elements in a list and print each element?"
   ]
  },
  {
   "cell_type": "code",
   "execution_count": 35,
   "id": "d9dcd2c0",
   "metadata": {},
   "outputs": [
    {
     "name": "stdout",
     "output_type": "stream",
     "text": [
      "1\n",
      "2\n",
      "3\n",
      "4\n",
      "5\n"
     ]
    }
   ],
   "source": [
    "\n",
    "my_list = [1, 2, 3, 4, 5]\n",
    "for item in my_list:\n",
    "    print(item)\n"
   ]
  },
  {
   "cell_type": "markdown",
   "id": "a32e0d4d",
   "metadata": {},
   "source": [
    "."
   ]
  },
  {
   "cell_type": "markdown",
   "id": "81b4ef9e",
   "metadata": {},
   "source": [
    "2.Can you use a for loop to iterate over characters in a string and count the occurrences of a specific character?"
   ]
  },
  {
   "cell_type": "code",
   "execution_count": 36,
   "id": "ea7b92e5",
   "metadata": {},
   "outputs": [
    {
     "name": "stdout",
     "output_type": "stream",
     "text": [
      "Number of occurrences of 'l': 2\n"
     ]
    }
   ],
   "source": [
    "\n",
    "my_string = \"hello\"\n",
    "count = 0\n",
    "for char in my_string:\n",
    "    if char == 'l':\n",
    "        count += 1\n",
    "print(\"Number of occurrences of 'l':\", count)\n"
   ]
  },
  {
   "cell_type": "markdown",
   "id": "fae43351",
   "metadata": {},
   "source": [
    "."
   ]
  },
  {
   "cell_type": "markdown",
   "id": "862e6561",
   "metadata": {},
   "source": [
    "3.How would you use a for loop to iterate over key-value pairs in a dictionary and print each pair?"
   ]
  },
  {
   "cell_type": "code",
   "execution_count": 37,
   "id": "6b489708",
   "metadata": {},
   "outputs": [
    {
     "name": "stdout",
     "output_type": "stream",
     "text": [
      "a -> 1\n",
      "b -> 2\n",
      "c -> 3\n"
     ]
    }
   ],
   "source": [
    "\n",
    "my_dict = {'a': 1, 'b': 2, 'c': 3}\n",
    "for key, value in my_dict.items():\n",
    "    print(key, \"->\", value)\n"
   ]
  },
  {
   "cell_type": "markdown",
   "id": "e82af541",
   "metadata": {},
   "source": [
    "."
   ]
  },
  {
   "cell_type": "markdown",
   "id": "c1f89370",
   "metadata": {},
   "source": [
    "4.Write a Python function called sum_of_list that takes a list of numbers as input and returns the sum of all the numbers using a for loop."
   ]
  },
  {
   "cell_type": "code",
   "execution_count": 84,
   "id": "fac22c4a",
   "metadata": {},
   "outputs": [
    {
     "name": "stdout",
     "output_type": "stream",
     "text": [
      "15\n"
     ]
    }
   ],
   "source": [
    "def sum_of_list(numbers):\n",
    "    total = 0\n",
    "    for num in numbers:\n",
    "        total += num\n",
    "    return total\n",
    "\n",
    "# Test case\n",
    "number_list = [1, 2, 3, 4, 5]\n",
    "print(sum_of_list(number_list))  # Output: 15\n"
   ]
  },
  {
   "cell_type": "markdown",
   "id": "3c03c079",
   "metadata": {},
   "source": [
    "."
   ]
  },
  {
   "cell_type": "markdown",
   "id": "9e7d9884",
   "metadata": {},
   "source": [
    "while Loop:"
   ]
  },
  {
   "cell_type": "markdown",
   "id": "52726302",
   "metadata": {},
   "source": [
    "1.How can you use a while loop to print numbers from 1 to 5?"
   ]
  },
  {
   "cell_type": "code",
   "execution_count": 38,
   "id": "fc44aae2",
   "metadata": {},
   "outputs": [
    {
     "name": "stdout",
     "output_type": "stream",
     "text": [
      "1\n",
      "2\n",
      "3\n",
      "4\n",
      "5\n"
     ]
    }
   ],
   "source": [
    "\n",
    "num = 1\n",
    "while num <= 5:\n",
    "    print(num)\n",
    "    num += 1\n"
   ]
  },
  {
   "cell_type": "markdown",
   "id": "0a95f3c5",
   "metadata": {},
   "source": [
    "."
   ]
  },
  {
   "cell_type": "markdown",
   "id": "4737621e",
   "metadata": {},
   "source": [
    "2.Can you use a while loop to find the factorial of a given number?"
   ]
  },
  {
   "cell_type": "code",
   "execution_count": 39,
   "id": "cf1fc856",
   "metadata": {},
   "outputs": [
    {
     "name": "stdout",
     "output_type": "stream",
     "text": [
      "Factorial of 5 is: 120\n"
     ]
    }
   ],
   "source": [
    "\n",
    "num = 5\n",
    "factorial = 1\n",
    "while num > 0:\n",
    "    factorial *= num\n",
    "    num -= 1\n",
    "print(\"Factorial of 5 is:\", factorial)\n"
   ]
  },
  {
   "cell_type": "markdown",
   "id": "28075d00",
   "metadata": {},
   "source": [
    "."
   ]
  },
  {
   "cell_type": "markdown",
   "id": "d37bb8a4",
   "metadata": {},
   "source": [
    "3.How would you use a while loop to iterate over elements in a list until a specific condition is met?"
   ]
  },
  {
   "cell_type": "code",
   "execution_count": 40,
   "id": "2d079cc1",
   "metadata": {},
   "outputs": [
    {
     "name": "stdout",
     "output_type": "stream",
     "text": [
      "1\n",
      "2\n"
     ]
    }
   ],
   "source": [
    "\n",
    "my_list = [1, 2, 3, 4, 5]\n",
    "index = 0\n",
    "while index < len(my_list) and my_list[index] != 3:\n",
    "    print(my_list[index])\n",
    "    index += 1\n"
   ]
  },
  {
   "cell_type": "markdown",
   "id": "df6ef1cf",
   "metadata": {},
   "source": [
    "."
   ]
  },
  {
   "cell_type": "markdown",
   "id": "92be8b4c",
   "metadata": {},
   "source": [
    "4.Write a Python function called count_down that takes a positive integer n as input and prints a countdown from n to 1 using a while loop."
   ]
  },
  {
   "cell_type": "code",
   "execution_count": 86,
   "id": "52a5926a",
   "metadata": {},
   "outputs": [
    {
     "name": "stdout",
     "output_type": "stream",
     "text": [
      "5\n",
      "4\n",
      "3\n",
      "2\n",
      "1\n"
     ]
    }
   ],
   "source": [
    "def count_down(n):\n",
    "    while n > 0:\n",
    "        print(n)\n",
    "        n -= 1\n",
    "\n",
    "# Test case\n",
    "count_down(5)\n"
   ]
  },
  {
   "cell_type": "markdown",
   "id": "9b4f0e90",
   "metadata": {},
   "source": [
    "."
   ]
  },
  {
   "cell_type": "markdown",
   "id": "98898eb1",
   "metadata": {},
   "source": [
    "# Lambda Function:"
   ]
  },
  {
   "cell_type": "markdown",
   "id": "bce69b10",
   "metadata": {},
   "source": [
    "---A lambda function in Python is a small, anonymous function defined using the lambda keyword. \n",
    "---Syntax: lambda arguments: expression. \n",
    "---It's primarily used for one-line operations and is often passed as an argument to higher-order functions \n",
    "   like map(), filter(), and sorted(). Example: double = lambda x: x * 2.\n",
    "---Lambda functions are concise and handy for quick operations without the need for a formal function definition,\n",
    "   enhancing code readability and reducing verbosity in certain contexts."
   ]
  },
  {
   "cell_type": "markdown",
   "id": "27836bbe",
   "metadata": {},
   "source": [
    "1.How can you define a lambda function to calculate the square of a number?"
   ]
  },
  {
   "cell_type": "code",
   "execution_count": 41,
   "id": "4d9a83b7",
   "metadata": {},
   "outputs": [
    {
     "name": "stdout",
     "output_type": "stream",
     "text": [
      "Square of 5 is: 25\n"
     ]
    }
   ],
   "source": [
    "\n",
    "square = lambda x: x ** 2\n",
    "print(\"Square of 5 is:\", square(5))\n"
   ]
  },
  {
   "cell_type": "markdown",
   "id": "ee953069",
   "metadata": {},
   "source": [
    "."
   ]
  },
  {
   "cell_type": "markdown",
   "id": "a821bc2c",
   "metadata": {},
   "source": [
    "2.Can you use a lambda function to add two numbers together?"
   ]
  },
  {
   "cell_type": "code",
   "execution_count": 42,
   "id": "f32d5999",
   "metadata": {},
   "outputs": [
    {
     "name": "stdout",
     "output_type": "stream",
     "text": [
      "Sum of 3 and 4 is: 7\n"
     ]
    }
   ],
   "source": [
    "\n",
    "addition = lambda x, y: x + y\n",
    "print(\"Sum of 3 and 4 is:\", addition(3, 4))\n"
   ]
  },
  {
   "cell_type": "markdown",
   "id": "d5f5c882",
   "metadata": {},
   "source": [
    "."
   ]
  },
  {
   "cell_type": "markdown",
   "id": "681bc5c4",
   "metadata": {},
   "source": [
    "3.How would you sort a list of tuples based on the second element of each tuple using a lambda function?"
   ]
  },
  {
   "cell_type": "code",
   "execution_count": 43,
   "id": "4a1378a0",
   "metadata": {},
   "outputs": [
    {
     "name": "stdout",
     "output_type": "stream",
     "text": [
      "Sorted list based on the second element: [(2, 1), (3, 2), (1, 3)]\n"
     ]
    }
   ],
   "source": [
    "\n",
    "my_list = [(1, 3), (2, 1), (3, 2)]\n",
    "sorted_list = sorted(my_list, key=lambda x: x[1])\n",
    "print(\"Sorted list based on the second element:\", sorted_list)\n"
   ]
  },
  {
   "cell_type": "markdown",
   "id": "6662315a",
   "metadata": {},
   "source": [
    "."
   ]
  },
  {
   "cell_type": "markdown",
   "id": "3e97355c",
   "metadata": {},
   "source": [
    "4.Write a Python function called multiply_by_two that takes a list of numbers as input and returns a new list where each number is multiplied by 2. Use a lambda function to perform the multiplication."
   ]
  },
  {
   "cell_type": "code",
   "execution_count": 87,
   "id": "f05943d1",
   "metadata": {},
   "outputs": [
    {
     "name": "stdout",
     "output_type": "stream",
     "text": [
      "[2, 4, 6, 8, 10]\n"
     ]
    }
   ],
   "source": [
    "def multiply_by_two(numbers):\n",
    "    return list(map(lambda x: x * 2, numbers))\n",
    "\n",
    "# Test case\n",
    "number_list = [1, 2, 3, 4, 5]\n",
    "print(multiply_by_two(number_list))  # Output: [2, 4, 6, 8, 10]\n"
   ]
  },
  {
   "cell_type": "markdown",
   "id": "d1df429c",
   "metadata": {},
   "source": [
    "."
   ]
  },
  {
   "cell_type": "markdown",
   "id": "2a2fab15",
   "metadata": {},
   "source": [
    "# UDF: Arguments and Parameters"
   ]
  },
  {
   "cell_type": "markdown",
   "id": "3669274d",
   "metadata": {},
   "source": [
    "---In user-defined functions (UDFs) in programming, arguments are values passed to a function\n",
    "   when it's called, while parameters are variables used to define a function's behavior.\n",
    "---Parameters define a function's input structure, while arguments supply values for these parameters during function\n",
    "   invocation.\n",
    "---Understanding this distinction ensures clarity and flexibility when designing and calling functions, enhancing\n",
    "   code organization and readability."
   ]
  },
  {
   "cell_type": "markdown",
   "id": "07240726",
   "metadata": {},
   "source": [
    "Parameter Definition:"
   ]
  },
  {
   "cell_type": "markdown",
   "id": "50d1568a",
   "metadata": {},
   "source": [
    "1.What are parameters in the context of a function?"
   ]
  },
  {
   "cell_type": "code",
   "execution_count": 44,
   "id": "862a0c33",
   "metadata": {},
   "outputs": [],
   "source": [
    "\n",
    "# Parameters are variables listed in the function definition. They represent values that the function expects to receive.\n",
    "# These values are placeholders for actual data that will be passed into the function when it is called.\n"
   ]
  },
  {
   "cell_type": "markdown",
   "id": "c666d08c",
   "metadata": {},
   "source": [
    "."
   ]
  },
  {
   "cell_type": "markdown",
   "id": "30d681b7",
   "metadata": {},
   "source": [
    "2.How do you define parameters in a Python function?"
   ]
  },
  {
   "cell_type": "code",
   "execution_count": 45,
   "id": "cace541f",
   "metadata": {},
   "outputs": [],
   "source": [
    "\n",
    "def greet(name, message):\n",
    "    print(message, name)\n",
    "\n",
    "# In the function definition 'greet', 'name' and 'message' are parameters.\n"
   ]
  },
  {
   "cell_type": "markdown",
   "id": "469b9167",
   "metadata": {},
   "source": [
    "."
   ]
  },
  {
   "cell_type": "markdown",
   "id": "a530f64a",
   "metadata": {},
   "source": [
    "3.Can you specify default values for parameters in a Python function?"
   ]
  },
  {
   "cell_type": "code",
   "execution_count": 46,
   "id": "371d2b99",
   "metadata": {},
   "outputs": [],
   "source": [
    "\n",
    "def greet(name, message=\"Hello\"):\n",
    "    print(message, name)\n",
    "\n",
    "# In this function, 'name' is a positional parameter, and 'message' has a default value of \"Hello\".\n",
    "# If 'message' is not provided when calling the function, it will default to \"Hello\".\n"
   ]
  },
  {
   "cell_type": "markdown",
   "id": "bd801d3d",
   "metadata": {},
   "source": [
    "."
   ]
  },
  {
   "cell_type": "markdown",
   "id": "642d0275",
   "metadata": {},
   "source": [
    "4.Write a Python function called calculate_area_of_rectangle that takes two parameters length and width representing the length and width of a rectangle respectively, and returns the area of the rectangle."
   ]
  },
  {
   "cell_type": "code",
   "execution_count": 88,
   "id": "6c81bf4d",
   "metadata": {},
   "outputs": [
    {
     "name": "stdout",
     "output_type": "stream",
     "text": [
      "15\n"
     ]
    }
   ],
   "source": [
    "def calculate_area_of_rectangle(length, width):\n",
    "    return length * width\n",
    "\n",
    "# Test case\n",
    "length = 5\n",
    "width = 3\n",
    "print(calculate_area_of_rectangle(length, width))  # Output: 15\n"
   ]
  },
  {
   "cell_type": "markdown",
   "id": "6bca19e0",
   "metadata": {},
   "source": [
    "."
   ]
  },
  {
   "cell_type": "markdown",
   "id": "913ae240",
   "metadata": {},
   "source": [
    "Argument Passing:"
   ]
  },
  {
   "cell_type": "markdown",
   "id": "bc9dc53d",
   "metadata": {},
   "source": [
    "1.What are arguments in the context of a function call?"
   ]
  },
  {
   "cell_type": "code",
   "execution_count": 47,
   "id": "3bf3a354",
   "metadata": {},
   "outputs": [],
   "source": [
    "\n",
    "# Arguments are the actual values that are passed to the function when it is called.\n",
    "# They correspond to the parameters defined in the function's definition.\n"
   ]
  },
  {
   "cell_type": "markdown",
   "id": "b0aeaf44",
   "metadata": {},
   "source": [
    "."
   ]
  },
  {
   "cell_type": "markdown",
   "id": "87243d37",
   "metadata": {},
   "source": [
    "2.How are arguments passed to a function in Python?"
   ]
  },
  {
   "cell_type": "code",
   "execution_count": 48,
   "id": "c2d367c3",
   "metadata": {},
   "outputs": [],
   "source": [
    "\n",
    "# Arguments are passed to a function by placing them within the parentheses when calling the function.\n",
    "# The order of the arguments should match the order of the parameters in the function definition.\n"
   ]
  },
  {
   "cell_type": "markdown",
   "id": "e7e53375",
   "metadata": {},
   "source": [
    "."
   ]
  },
  {
   "cell_type": "markdown",
   "id": "03eed4d2",
   "metadata": {},
   "source": [
    "3.Can you pass arguments to a function by keyword?"
   ]
  },
  {
   "cell_type": "code",
   "execution_count": 49,
   "id": "e7b8e88c",
   "metadata": {},
   "outputs": [
    {
     "name": "stdout",
     "output_type": "stream",
     "text": [
      "Hi Alice\n"
     ]
    }
   ],
   "source": [
    "\n",
    "def greet(name, message):\n",
    "    print(message, name)\n",
    "\n",
    "greet(message=\"Hi\", name=\"Alice\")\n",
    "\n",
    "# Yes, you can pass arguments to a function by specifying the parameter names followed by the corresponding values.\n",
    "# This is called keyword argument passing, and the order of the arguments doesn't matter in this case.\n"
   ]
  },
  {
   "cell_type": "markdown",
   "id": "71f36ae8",
   "metadata": {},
   "source": [
    "."
   ]
  },
  {
   "cell_type": "markdown",
   "id": "ec2540a3",
   "metadata": {},
   "source": [
    "4.Write a Python function called print_info that takes three arguments name, age, and city, and prints out the information in a formatted string."
   ]
  },
  {
   "cell_type": "code",
   "execution_count": 89,
   "id": "e8189585",
   "metadata": {},
   "outputs": [
    {
     "name": "stdout",
     "output_type": "stream",
     "text": [
      "Name: Alice, Age: 30, City: New York\n"
     ]
    }
   ],
   "source": [
    "def print_info(name, age, city):\n",
    "    print(f\"Name: {name}, Age: {age}, City: {city}\")\n",
    "\n",
    "# Test case\n",
    "print_info(\"Alice\", 30, \"New York\")\n"
   ]
  },
  {
   "cell_type": "markdown",
   "id": "3ec1e40e",
   "metadata": {},
   "source": [
    "."
   ]
  },
  {
   "cell_type": "markdown",
   "id": "3db40273",
   "metadata": {},
   "source": [
    "# Pandas Module"
   ]
  },
  {
   "cell_type": "markdown",
   "id": "930120ef",
   "metadata": {},
   "source": [
    "---The Pandas module in Python provides powerful data manipulation and analysis tools, primarily through \n",
    "   its DataFrame data structure. \n",
    "---It offers functionality for handling structured data, including reading and writing various file formats, data cleaning,\n",
    "   filtering, grouping, and statistical analysis. \n",
    "---Syntax: import pandas as pd. \n",
    "---Pandas is widely used in data science and analytics for tasks like data preprocessing, exploration,\n",
    "   and visualization, making it an essential tool in the Python ecosystem for working with tabular data efficiently \n",
    "   and effectively."
   ]
  },
  {
   "cell_type": "markdown",
   "id": "ee66b3b7",
   "metadata": {},
   "source": [
    "Data Loading and DataFrame Creation:"
   ]
  },
  {
   "cell_type": "markdown",
   "id": "f0f70906",
   "metadata": {},
   "source": [
    "1.How can you import the Pandas module in Python?"
   ]
  },
  {
   "cell_type": "code",
   "execution_count": 50,
   "id": "c5dbd590",
   "metadata": {},
   "outputs": [],
   "source": [
    "\n",
    "import pandas as pd\n"
   ]
  },
  {
   "cell_type": "markdown",
   "id": "1fc4f801",
   "metadata": {},
   "source": [
    "."
   ]
  },
  {
   "cell_type": "markdown",
   "id": "ee9d8ee7",
   "metadata": {},
   "source": [
    "2.Create a Pandas DataFrame manually from a dictionary of lists containing information about students (name, age, and grade)."
   ]
  },
  {
   "cell_type": "code",
   "execution_count": 90,
   "id": "54f9c469",
   "metadata": {},
   "outputs": [
    {
     "name": "stdout",
     "output_type": "stream",
     "text": [
      "      Name  Age  Grade\n",
      "0    Alice   25     85\n",
      "1      Bob   30     90\n",
      "2  Charlie   27     88\n"
     ]
    }
   ],
   "source": [
    "import pandas as pd\n",
    "\n",
    "# Dictionary containing information about students\n",
    "student_data = {\n",
    "    'Name': ['Alice', 'Bob', 'Charlie'],\n",
    "    'Age': [25, 30, 27],\n",
    "    'Grade': [85, 90, 88]\n",
    "}\n",
    "\n",
    "# Create a DataFrame from the dictionary\n",
    "df = pd.DataFrame(student_data)\n",
    "\n",
    "# Display the DataFrame\n",
    "print(df)\n"
   ]
  },
  {
   "cell_type": "markdown",
   "id": "7ebfe1c5",
   "metadata": {},
   "source": [
    "."
   ]
  },
  {
   "cell_type": "markdown",
   "id": "4adfccb1",
   "metadata": {},
   "source": [
    "3.What method can you use to create a DataFrame from a dictionary?"
   ]
  },
  {
   "cell_type": "code",
   "execution_count": null,
   "id": "eb0e3c01",
   "metadata": {},
   "outputs": [],
   "source": [
    "\n",
    "import pandas as pd\n",
    "\n",
    "# Create DataFrame from dictionary\n",
    "data = {'Name': ['Alice', 'Bob', 'Charlie'], 'Age': [25, 30, 35]}\n",
    "df = pd.DataFrame(data)\n"
   ]
  },
  {
   "cell_type": "markdown",
   "id": "534ede50",
   "metadata": {},
   "source": [
    "."
   ]
  },
  {
   "cell_type": "markdown",
   "id": "7ee21592",
   "metadata": {},
   "source": [
    "4.Write Python code to create a Pandas DataFrame from a list of dictionaries containing information about books (title, author, and publication year)."
   ]
  },
  {
   "cell_type": "code",
   "execution_count": 91,
   "id": "0de0a1ae",
   "metadata": {},
   "outputs": [
    {
     "name": "stdout",
     "output_type": "stream",
     "text": [
      "                   Title               Author  Publication_Year\n",
      "0  To Kill a Mockingbird           Harper Lee              1960\n",
      "1                   1984        George Orwell              1949\n",
      "2       The Great Gatsby  F. Scott Fitzgerald              1925\n"
     ]
    }
   ],
   "source": [
    "import pandas as pd\n",
    "\n",
    "# List of dictionaries containing information about books\n",
    "books_data = [\n",
    "    {'Title': 'To Kill a Mockingbird', 'Author': 'Harper Lee', 'Publication_Year': 1960},\n",
    "    {'Title': '1984', 'Author': 'George Orwell', 'Publication_Year': 1949},\n",
    "    {'Title': 'The Great Gatsby', 'Author': 'F. Scott Fitzgerald', 'Publication_Year': 1925}\n",
    "]\n",
    "\n",
    "# Create a DataFrame from the list of dictionaries\n",
    "df = pd.DataFrame(books_data)\n",
    "\n",
    "# Display the DataFrame\n",
    "print(df)\n"
   ]
  },
  {
   "cell_type": "markdown",
   "id": "25912676",
   "metadata": {},
   "source": [
    "."
   ]
  },
  {
   "cell_type": "markdown",
   "id": "24634359",
   "metadata": {},
   "source": [
    "Data Exploration and Manipulation:"
   ]
  },
  {
   "cell_type": "markdown",
   "id": "bfc99c4b",
   "metadata": {},
   "source": [
    "1.How can you display the first few rows of a DataFrame?"
   ]
  },
  {
   "cell_type": "code",
   "execution_count": null,
   "id": "a6611183",
   "metadata": {},
   "outputs": [],
   "source": [
    "\n",
    "import pandas as pd\n",
    "\n",
    "# Display first few rows of the DataFrame\n",
    "print(df.head())\n"
   ]
  },
  {
   "cell_type": "markdown",
   "id": "2dfd8a90",
   "metadata": {},
   "source": [
    "."
   ]
  },
  {
   "cell_type": "markdown",
   "id": "e67d73b5",
   "metadata": {},
   "source": [
    "2.Given a Pandas DataFrame sales_data containing sales information (date, product, quantity, and price), write Python code to:\n",
    "\n",
    "Calculate the total sales amount (quantity * price) for each row and add it as a new column named \"total_sales\".\n",
    "Group the DataFrame by product and calculate the total sales amount for each product.\n",
    "Sort the resulting DataFrame by total sales amount in descending order."
   ]
  },
  {
   "cell_type": "code",
   "execution_count": 92,
   "id": "731f791c",
   "metadata": {},
   "outputs": [
    {
     "name": "stdout",
     "output_type": "stream",
     "text": [
      "  Product  total_sales\n",
      "0       A        210.0\n",
      "1       B         84.5\n"
     ]
    }
   ],
   "source": [
    "# Sample DataFrame containing sales information\n",
    "sales_data = {\n",
    "    'Date': ['2024-01-01', '2024-01-01', '2024-01-02', '2024-01-02', '2024-01-03'],\n",
    "    'Product': ['A', 'B', 'A', 'B', 'A'],\n",
    "    'Quantity': [10, 15, 12, 8, 20],\n",
    "    'Price': [5.0, 3.5, 5.0, 4.0, 5.0]\n",
    "}\n",
    "sales_df = pd.DataFrame(sales_data)\n",
    "\n",
    "# Calculate the total sales amount for each row and add it as a new column\n",
    "sales_df['total_sales'] = sales_df['Quantity'] * sales_df['Price']\n",
    "\n",
    "# Group the DataFrame by product and calculate the total sales amount for each product\n",
    "product_sales = sales_df.groupby('Product')['total_sales'].sum().reset_index()\n",
    "\n",
    "# Sort the resulting DataFrame by total sales amount in descending order\n",
    "sorted_product_sales = product_sales.sort_values(by='total_sales', ascending=False)\n",
    "\n",
    "print(sorted_product_sales)\n"
   ]
  },
  {
   "cell_type": "markdown",
   "id": "83e4be2d",
   "metadata": {},
   "source": [
    "."
   ]
  },
  {
   "cell_type": "markdown",
   "id": "48513d05",
   "metadata": {},
   "source": [
    "3.Given a Pandas DataFrame df containing information about students (name, age, and grade), write Python code to:\n",
    "\n",
    "Display the first five rows of the DataFrame.\n",
    "Calculate the mean age of the students.\n",
    "Filter the DataFrame to include only students with a grade greater than or equal to 80.\n",
    "Sort the DataFrame by grade in descending order.\n",
    "Display the top three rows of the sorted DataFrame."
   ]
  },
  {
   "cell_type": "code",
   "execution_count": 93,
   "id": "34e39c86",
   "metadata": {},
   "outputs": [
    {
     "name": "stdout",
     "output_type": "stream",
     "text": [
      "First five rows of the DataFrame:\n",
      "      Name  Age  Grade\n",
      "0    Alice   25     85\n",
      "1      Bob   30     90\n",
      "2  Charlie   27     75\n",
      "3    David   22     82\n",
      "4      Eva   28     78\n",
      "\n",
      "Mean age of the students: 26.4\n",
      "\n",
      "Top three rows of the sorted DataFrame:\n",
      "    Name  Age  Grade\n",
      "1    Bob   30     90\n",
      "0  Alice   25     85\n",
      "3  David   22     82\n"
     ]
    }
   ],
   "source": [
    "import pandas as pd\n",
    "\n",
    "# Sample DataFrame containing information about students\n",
    "data = {\n",
    "    'Name': ['Alice', 'Bob', 'Charlie', 'David', 'Eva'],\n",
    "    'Age': [25, 30, 27, 22, 28],\n",
    "    'Grade': [85, 90, 75, 82, 78]\n",
    "}\n",
    "df = pd.DataFrame(data)\n",
    "\n",
    "# Display the first five rows of the DataFrame\n",
    "print(\"First five rows of the DataFrame:\")\n",
    "print(df.head())\n",
    "\n",
    "# Calculate the mean age of the students\n",
    "mean_age = df['Age'].mean()\n",
    "print(\"\\nMean age of the students:\", mean_age)\n",
    "\n",
    "# Filter the DataFrame to include only students with a grade greater than or equal to 80\n",
    "filtered_df = df[df['Grade'] >= 80]\n",
    "\n",
    "# Sort the DataFrame by grade in descending order\n",
    "sorted_df = filtered_df.sort_values(by='Grade', ascending=False)\n",
    "\n",
    "# Display the top three rows of the sorted DataFrame\n",
    "print(\"\\nTop three rows of the sorted DataFrame:\")\n",
    "print(sorted_df.head(3))\n"
   ]
  },
  {
   "cell_type": "markdown",
   "id": "7421820f",
   "metadata": {},
   "source": [
    "."
   ]
  }
 ],
 "metadata": {
  "kernelspec": {
   "display_name": "Python 3 (ipykernel)",
   "language": "python",
   "name": "python3"
  },
  "language_info": {
   "codemirror_mode": {
    "name": "ipython",
    "version": 3
   },
   "file_extension": ".py",
   "mimetype": "text/x-python",
   "name": "python",
   "nbconvert_exporter": "python",
   "pygments_lexer": "ipython3",
   "version": "3.11.5"
  }
 },
 "nbformat": 4,
 "nbformat_minor": 5
}
